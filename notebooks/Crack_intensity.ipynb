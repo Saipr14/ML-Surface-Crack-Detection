{
 "cells": [
  {
   "cell_type": "markdown",
   "id": "f444b4c4",
   "metadata": {},
   "source": [
    "# Importing packages"
   ]
  },
  {
   "cell_type": "code",
   "execution_count": 29,
   "id": "09104434",
   "metadata": {},
   "outputs": [],
   "source": [
    "import os\n",
    "\n",
    "import pandas as pd\n",
    "import numpy as np\n",
    "\n",
    "import cv2\n",
    "from glob import glob as glob\n",
    "from pathlib import Path"
   ]
  },
  {
   "cell_type": "code",
   "execution_count": 35,
   "id": "50f526d7",
   "metadata": {},
   "outputs": [],
   "source": [
    "crack_prodir = Path(\"../data/processed/crack_temp\")"
   ]
  },
  {
   "cell_type": "code",
   "execution_count": 36,
   "id": "fd523413",
   "metadata": {},
   "outputs": [],
   "source": [
    "def analyze_crack_intensity_v3(binary_img, area_thresh_low=0.07, area_thresh_high=0.10, width_thresh=30):\n",
    "\n",
    "    img_height, img_width = binary_img.shape\n",
    "    print(f\"Image Size: {img_height} x {img_width}\")\n",
    "    img_area = img_height * img_width\n",
    "\n",
    "    contours, _ = cv2.findContours(binary_img, cv2.RETR_EXTERNAL, cv2.CHAIN_APPROX_SIMPLE)\n",
    "\n",
    "    crack_features = []\n",
    "    for cnt in contours:\n",
    "        area = cv2.contourArea(cnt)\n",
    "        if area < 10:\n",
    "            continue\n",
    "\n",
    "        x, y, w, h = cv2.boundingRect(cnt)\n",
    "        bbox = binary_img[y:y+h, x:x+w]\n",
    "        white_pixels = cv2.countNonZero(bbox)\n",
    "        # bbox_area = w * h\n",
    "        crack_ratio = white_pixels / img_area\n",
    "\n",
    "        # Use minimum of width and height as \"local width\"\n",
    "        local_width = min(w, h)\n",
    "\n",
    "        # Combine area and width to decide intensity\n",
    "        if crack_ratio < area_thresh_low or local_width < width_thresh:\n",
    "            intensity = 0  # Low\n",
    "        elif (crack_ratio > area_thresh_low and crack_ratio < area_thresh_high) or (local_width < width_thresh * 1.5):\n",
    "            intensity = 1  # Medium\n",
    "        else:\n",
    "            intensity = 2  # High\n",
    "\n",
    "        aspect_ratio = float(w) / h if h != 0 else 0\n",
    "\n",
    "        print(f\"Crack Ratio: {crack_ratio:.4f}, Local Width: {local_width}, Intensity: {intensity}\")\n",
    "\n",
    "        crack_features.append({\n",
    "            'bbox': (x, y, w, h),\n",
    "            'area': area,\n",
    "            'white_pixels': white_pixels,\n",
    "            'crack_ratio': crack_ratio,\n",
    "            'aspect_ratio': aspect_ratio,\n",
    "            'local_width': local_width,\n",
    "            'intensity': intensity\n",
    "        })\n",
    "\n",
    "    return crack_features\n"
   ]
  },
  {
   "cell_type": "code",
   "execution_count": 37,
   "id": "d9c4417e",
   "metadata": {},
   "outputs": [],
   "source": [
    "def visualize_crack_intensity(img, crack_features):\n",
    "    output = cv2.cvtColor(img, cv2.COLOR_GRAY2BGR)\n",
    "    \n",
    "    for feat in crack_features:\n",
    "        x, y, w, h = feat['bbox']\n",
    "        intensity = feat['intensity']\n",
    "        \n",
    "        # Set color based on intensity level\n",
    "        if intensity == 0:\n",
    "            color = (0, 255, 0)      # Green for Low\n",
    "        elif intensity == 1:\n",
    "            color = (0, 255, 255)    # Yellow for Medium\n",
    "        else:\n",
    "            color = (0, 0, 255)      # Red for High\n",
    "\n",
    "        cv2.rectangle(output, (x, y), (x + w, y + h), color, 2)\n",
    "        cv2.putText(output, f\"{intensity}\", (x, y - 5), cv2.FONT_HERSHEY_SIMPLEX, 0.5, color, 1)\n",
    "\n",
    "    return output"
   ]
  },
  {
   "cell_type": "code",
   "execution_count": 39,
   "id": "a59374e2",
   "metadata": {},
   "outputs": [
    {
     "name": "stdout",
     "output_type": "stream",
     "text": [
      "Image Size: 227 x 227\n",
      "Crack Ratio: 0.0860, Local Width: 122, Intensity: 1\n",
      "Image Size: 227 x 227\n",
      "Crack Ratio: 0.0883, Local Width: 154, Intensity: 1\n",
      "Image Size: 227 x 227\n",
      "Crack Ratio: 0.0902, Local Width: 103, Intensity: 1\n",
      "Image Size: 227 x 227\n",
      "Crack Ratio: 0.0051, Local Width: 19, Intensity: 0\n",
      "Crack Ratio: 0.1194, Local Width: 150, Intensity: 2\n",
      "Image Size: 227 x 227\n",
      "Crack Ratio: 0.0867, Local Width: 156, Intensity: 1\n",
      "Image Size: 227 x 227\n",
      "Crack Ratio: 0.0436, Local Width: 96, Intensity: 0\n",
      "Crack Ratio: 0.1140, Local Width: 81, Intensity: 2\n",
      "Image Size: 227 x 227\n",
      "Crack Ratio: 0.0849, Local Width: 142, Intensity: 1\n",
      "Image Size: 227 x 227\n",
      "Crack Ratio: 0.1105, Local Width: 141, Intensity: 2\n",
      "Image Size: 227 x 227\n",
      "Crack Ratio: 0.0884, Local Width: 52, Intensity: 1\n",
      "Crack Ratio: 0.1351, Local Width: 115, Intensity: 2\n",
      "Image Size: 227 x 227\n",
      "Crack Ratio: 0.0009, Local Width: 8, Intensity: 0\n",
      "Crack Ratio: 0.0624, Local Width: 149, Intensity: 0\n"
     ]
    }
   ],
   "source": [
    "# binary_img = your_preprocessed_crack_image\n",
    "crack_images = list(crack_prodir.glob(\"*.jpg\"))[80:90]\n",
    "\n",
    "for img_path in crack_images:\n",
    "    img = cv2.imread(str(img_path), cv2.IMREAD_GRAYSCALE)\n",
    "    \n",
    "    binary = cv2.threshold(img, 127, 255, cv2.THRESH_BINARY)[1]\n",
    "    features = analyze_crack_intensity_v3(binary)\n",
    "    vis = visualize_crack_intensity(img, features)\n",
    "    \n",
    "    cv2.imshow(f\"Crack Intensity - {img_path.name}\", vis)\n",
    "    cv2.waitKey(0)  # Wait for key press before moving to next image\n",
    "\n",
    "cv2.destroyAllWindows()"
   ]
  },
  {
   "cell_type": "code",
   "execution_count": null,
   "id": "0ef4e2e4",
   "metadata": {},
   "outputs": [],
   "source": []
  }
 ],
 "metadata": {
  "kernelspec": {
   "display_name": ".venv",
   "language": "python",
   "name": "python3"
  },
  "language_info": {
   "codemirror_mode": {
    "name": "ipython",
    "version": 3
   },
   "file_extension": ".py",
   "mimetype": "text/x-python",
   "name": "python",
   "nbconvert_exporter": "python",
   "pygments_lexer": "ipython3",
   "version": "3.9.8"
  }
 },
 "nbformat": 4,
 "nbformat_minor": 5
}
