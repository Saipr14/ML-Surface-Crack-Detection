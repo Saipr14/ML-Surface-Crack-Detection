{
 "cells": [
  {
   "cell_type": "markdown",
   "metadata": {},
   "source": [
    "# imports"
   ]
  },
  {
   "cell_type": "code",
   "execution_count": 2,
   "metadata": {},
   "outputs": [],
   "source": [
    "import matplotlib.pylab as plt\n",
    "import pandas as pd\n",
    "import numpy as np\n",
    "\n",
    "from glob import glob as glob\n",
    "from pathlib import Path\n",
    "\n",
    "from sklearn.model_selection import train_test_split\n",
    "import tensorflow as tf"
   ]
  },
  {
   "cell_type": "markdown",
   "metadata": {},
   "source": [
    "# Getting Images"
   ]
  },
  {
   "cell_type": "code",
   "execution_count": 3,
   "metadata": {},
   "outputs": [],
   "source": [
    "processed_crackdir = Path(\"../data/processed/pro_crack_img\")\n",
    "noncrack_dir = Path(\"../data/external/Non-crack\")\n",
    "\n",
    "def generate_df(image_dir, label):\n",
    "    filepaths = pd.Series(list(image_dir.glob(r'*.jpg')), name='Filepath').astype(str)\n",
    "    labels = pd.Series(label, name='Label', index=filepaths.index)\n",
    "    df = pd.concat([filepaths, labels], axis=1)\n",
    "    return df"
   ]
  },
  {
   "cell_type": "code",
   "execution_count": 4,
   "metadata": {},
   "outputs": [
    {
     "data": {
      "text/html": [
       "<div>\n",
       "<style scoped>\n",
       "    .dataframe tbody tr th:only-of-type {\n",
       "        vertical-align: middle;\n",
       "    }\n",
       "\n",
       "    .dataframe tbody tr th {\n",
       "        vertical-align: top;\n",
       "    }\n",
       "\n",
       "    .dataframe thead th {\n",
       "        text-align: right;\n",
       "    }\n",
       "</style>\n",
       "<table border=\"1\" class=\"dataframe\">\n",
       "  <thead>\n",
       "    <tr style=\"text-align: right;\">\n",
       "      <th></th>\n",
       "      <th>Filepath</th>\n",
       "      <th>Label</th>\n",
       "    </tr>\n",
       "  </thead>\n",
       "  <tbody>\n",
       "    <tr>\n",
       "      <th>0</th>\n",
       "      <td>..\\data\\external\\Non-crack\\08623.jpg</td>\n",
       "      <td>NONCRACK_IMAGE</td>\n",
       "    </tr>\n",
       "    <tr>\n",
       "      <th>1</th>\n",
       "      <td>..\\data\\external\\Non-crack\\05028.jpg</td>\n",
       "      <td>NONCRACK_IMAGE</td>\n",
       "    </tr>\n",
       "    <tr>\n",
       "      <th>2</th>\n",
       "      <td>..\\data\\external\\Non-crack\\15926.jpg</td>\n",
       "      <td>NONCRACK_IMAGE</td>\n",
       "    </tr>\n",
       "    <tr>\n",
       "      <th>3</th>\n",
       "      <td>..\\data\\external\\Non-crack\\15710.jpg</td>\n",
       "      <td>NONCRACK_IMAGE</td>\n",
       "    </tr>\n",
       "    <tr>\n",
       "      <th>4</th>\n",
       "      <td>..\\data\\external\\Non-crack\\17857.jpg</td>\n",
       "      <td>NONCRACK_IMAGE</td>\n",
       "    </tr>\n",
       "    <tr>\n",
       "      <th>...</th>\n",
       "      <td>...</td>\n",
       "      <td>...</td>\n",
       "    </tr>\n",
       "    <tr>\n",
       "      <th>20005</th>\n",
       "      <td>..\\data\\external\\Non-crack\\10946.jpg</td>\n",
       "      <td>NONCRACK_IMAGE</td>\n",
       "    </tr>\n",
       "    <tr>\n",
       "      <th>20006</th>\n",
       "      <td>..\\data\\external\\Non-crack\\17280.jpg</td>\n",
       "      <td>NONCRACK_IMAGE</td>\n",
       "    </tr>\n",
       "    <tr>\n",
       "      <th>20007</th>\n",
       "      <td>..\\data\\external\\Non-crack\\05183.jpg</td>\n",
       "      <td>NONCRACK_IMAGE</td>\n",
       "    </tr>\n",
       "    <tr>\n",
       "      <th>20008</th>\n",
       "      <td>..\\data\\external\\Non-crack\\12163.jpg</td>\n",
       "      <td>NONCRACK_IMAGE</td>\n",
       "    </tr>\n",
       "    <tr>\n",
       "      <th>20009</th>\n",
       "      <td>..\\data\\external\\Non-crack\\00226.jpg</td>\n",
       "      <td>NONCRACK_IMAGE</td>\n",
       "    </tr>\n",
       "  </tbody>\n",
       "</table>\n",
       "<p>20010 rows × 2 columns</p>\n",
       "</div>"
      ],
      "text/plain": [
       "                                   Filepath           Label\n",
       "0      ..\\data\\external\\Non-crack\\08623.jpg  NONCRACK_IMAGE\n",
       "1      ..\\data\\external\\Non-crack\\05028.jpg  NONCRACK_IMAGE\n",
       "2      ..\\data\\external\\Non-crack\\15926.jpg  NONCRACK_IMAGE\n",
       "3      ..\\data\\external\\Non-crack\\15710.jpg  NONCRACK_IMAGE\n",
       "4      ..\\data\\external\\Non-crack\\17857.jpg  NONCRACK_IMAGE\n",
       "...                                     ...             ...\n",
       "20005  ..\\data\\external\\Non-crack\\10946.jpg  NONCRACK_IMAGE\n",
       "20006  ..\\data\\external\\Non-crack\\17280.jpg  NONCRACK_IMAGE\n",
       "20007  ..\\data\\external\\Non-crack\\05183.jpg  NONCRACK_IMAGE\n",
       "20008  ..\\data\\external\\Non-crack\\12163.jpg  NONCRACK_IMAGE\n",
       "20009  ..\\data\\external\\Non-crack\\00226.jpg  NONCRACK_IMAGE\n",
       "\n",
       "[20010 rows x 2 columns]"
      ]
     },
     "execution_count": 4,
     "metadata": {},
     "output_type": "execute_result"
    }
   ],
   "source": [
    "crack_df = generate_df(processed_crackdir, label=\"CRACK_IMAGE\")\n",
    "noncrack_df = generate_df(noncrack_dir,label=\"NONCRACK_IMAGE\")\n",
    "total_df = pd.concat([crack_df,noncrack_df],axis=0).sample(frac=1.0,random_state=1).reset_index(drop=True)\n",
    "\n",
    "total_df"
   ]
  },
  {
   "cell_type": "markdown",
   "metadata": {},
   "source": [
    "# Test-Train split"
   ]
  },
  {
   "cell_type": "code",
   "execution_count": 5,
   "metadata": {},
   "outputs": [],
   "source": [
    "train_df, test_df = train_test_split(\n",
    "    total_df.sample(6000, random_state=1),\n",
    "    train_size=0.7,\n",
    "    shuffle=True,\n",
    "    random_state=1\n",
    ")"
   ]
  },
  {
   "cell_type": "markdown",
   "metadata": {},
   "source": [
    "# Loading/Adding Images"
   ]
  },
  {
   "cell_type": "code",
   "execution_count": 6,
   "metadata": {},
   "outputs": [],
   "source": [
    "train_gen = tf.keras.preprocessing.image.ImageDataGenerator(\n",
    "                rescale = 1./255,\n",
    "                validation_split = 0.2\n",
    ")\n",
    "\n",
    "test_gen = tf.keras.preprocessing.image.ImageDataGenerator(\n",
    "                rescale = 1./255\n",
    ")"
   ]
  },
  {
   "cell_type": "code",
   "execution_count": null,
   "metadata": {},
   "outputs": [],
   "source": []
  }
 ],
 "metadata": {
  "kernelspec": {
   "display_name": ".venv",
   "language": "python",
   "name": "python3"
  },
  "language_info": {
   "codemirror_mode": {
    "name": "ipython",
    "version": 3
   },
   "file_extension": ".py",
   "mimetype": "text/x-python",
   "name": "python",
   "nbconvert_exporter": "python",
   "pygments_lexer": "ipython3",
   "version": "3.9.8"
  }
 },
 "nbformat": 4,
 "nbformat_minor": 2
}
